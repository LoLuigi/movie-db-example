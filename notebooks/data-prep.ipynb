{
 "cells": [
  {
   "cell_type": "markdown",
   "metadata": {},
   "source": [
    "# Simple Juptyer notebook to prep data"
   ]
  },
  {
   "cell_type": "code",
   "execution_count": 1,
   "metadata": {},
   "outputs": [],
   "source": [
    "import numpy as np\n",
    "import pandas as pd\n",
    "import uuid"
   ]
  },
  {
   "cell_type": "code",
   "execution_count": 2,
   "metadata": {},
   "outputs": [
    {
     "name": "stdout",
     "output_type": "stream",
     "text": [
      "                                              Poster  \\\n",
      "0  https://m.media-amazon.com/images/M/MV5BYWRkZj...   \n",
      "1  https://m.media-amazon.com/images/M/MV5BZGI4NT...   \n",
      "2  https://m.media-amazon.com/images/M/MV5BZjIyOT...   \n",
      "3  https://m.media-amazon.com/images/M/MV5BMjA5Zj...   \n",
      "4  https://m.media-amazon.com/images/M/MV5BNTk1MT...   \n",
      "\n",
      "                               Title    Year Certificate  Duration (min)  \\\n",
      "0                    The Idea of You  2023.0           R           115.0   \n",
      "1  Kingdom of the Planet of the Apes  2023.0       PG-13           145.0   \n",
      "2                          Unfrosted  2023.0       PG-13            97.0   \n",
      "3                       The Fall Guy  2023.0       PG-13           126.0   \n",
      "4                        Challengers  2023.0           R           131.0   \n",
      "\n",
      "                        Genre  Rating  Metascore           Director  \\\n",
      "0      Comedy, Drama, Romance     6.4       67.0  Michael Showalter   \n",
      "1   Action, Adventure, Sci-Fi     7.3       66.0           Wes Ball   \n",
      "2  Biography, Comedy, History     5.5       42.0     Jerry Seinfeld   \n",
      "3       Action, Comedy, Drama     7.3       73.0       David Leitch   \n",
      "4       Drama, Romance, Sport     7.7       82.0    Luca Guadagnino   \n",
      "\n",
      "                                                Cast   Votes  \\\n",
      "0  Anne Hathaway, Nicholas Galitzine, Ella Rubin,...  28,744   \n",
      "1  Owen Teague, Freya Allan, Kevin Durand, Peter ...  22,248   \n",
      "2  Isaac Bae, Jerry Seinfeld, Chris Rickett, Rach...  18,401   \n",
      "3  Ryan Gosling, Emily Blunt, Aaron Taylor-Johnso...  38,953   \n",
      "4  Zendaya, Mike Faist, Josh O'Connor, Darnell Ap...  32,517   \n",
      "\n",
      "                                         Description Review Count  \\\n",
      "0  Solène, a 40-year-old single mom, begins an un...          166   \n",
      "1  Many years after the reign of Caesar, a young ...          183   \n",
      "2  In 1963 Michigan, business rivals Kellogg's an...          333   \n",
      "3  A down-and-out stuntman must find the missing ...          384   \n",
      "4  Tashi, a former tennis prodigy turned coach, t...          194   \n",
      "\n",
      "                             Review Title  \\\n",
      "0                    Hypocrisy as an idea   \n",
      "1  A phenomenal start to another trilogy!   \n",
      "2                               not funny   \n",
      "3         Everything you needed and more!   \n",
      "4             Watch \"Match Point\" instead   \n",
      "\n",
      "                                              Review  \n",
      "0  This film, as well as the reaction to it, is a...  \n",
      "1  I'm a big fan of all the planet of the apes, a...  \n",
      "2  Pretty much the worst criticism you can lay on...  \n",
      "3  Just got out of the Austin premier at SXSW and...  \n",
      "4  This is a tough one. I liked the concept and t...  \n"
     ]
    }
   ],
   "source": [
    "# import raw data file\n",
    "df = pd.read_csv('./data/raw/imdb-movies-dataset.csv')\n",
    "print(df.head())"
   ]
  },
  {
   "cell_type": "code",
   "execution_count": 3,
   "metadata": {},
   "outputs": [
    {
     "name": "stderr",
     "output_type": "stream",
     "text": [
      "/var/folders/lq/m0tg8ggd1tz29k0gzv1nkcvr0000gn/T/ipykernel_34106/3398230814.py:10: FutureWarning: DataFrame.applymap has been deprecated. Use DataFrame.map instead.\n",
      "  df = df.applymap(lambda x: x.encode('utf-8', 'ignore').decode('utf-8') if isinstance(x, str) else x)\n"
     ]
    }
   ],
   "source": [
    "# add id column to df\n",
    "df['Id'] = [uuid.uuid4() for _ in range(len(df.index))]\n",
    "\n",
    "# move id to beginning of df\n",
    "cols = df.columns.tolist()\n",
    "cols = cols[-1:] + cols[:-1]\n",
    "df = df[cols]\n",
    "\n",
    "# Replace non-UTF-8 characters with a space\n",
    "df = df.applymap(lambda x: x.encode('utf-8', 'ignore').decode('utf-8') if isinstance(x, str) else x)"
   ]
  },
  {
   "cell_type": "code",
   "execution_count": 4,
   "metadata": {},
   "outputs": [],
   "source": [
    "# split df in data and reviews\n",
    "df_review = df[['Id', 'Review Title', 'Review', 'Review Count']]\n",
    "\n",
    "movies_df = df.drop(columns=['Review', 'Review Count', 'Review Title'])"
   ]
  },
  {
   "cell_type": "code",
   "execution_count": 5,
   "metadata": {},
   "outputs": [],
   "source": [
    "# save data to csv\n",
    "movies_df.to_csv('./data/processed/movies.csv', index=False)\n",
    "df_review.to_csv('./data/processed/reviews.csv', index=False)"
   ]
  },
  {
   "cell_type": "code",
   "execution_count": null,
   "metadata": {},
   "outputs": [],
   "source": []
  }
 ],
 "metadata": {
  "kernelspec": {
   "display_name": "Python 3 (ipykernel)",
   "language": "python",
   "name": "python3"
  },
  "language_info": {
   "codemirror_mode": {
    "name": "ipython",
    "version": 3
   },
   "file_extension": ".py",
   "mimetype": "text/x-python",
   "name": "python",
   "nbconvert_exporter": "python",
   "pygments_lexer": "ipython3",
   "version": "3.10.3"
  }
 },
 "nbformat": 4,
 "nbformat_minor": 2
}
